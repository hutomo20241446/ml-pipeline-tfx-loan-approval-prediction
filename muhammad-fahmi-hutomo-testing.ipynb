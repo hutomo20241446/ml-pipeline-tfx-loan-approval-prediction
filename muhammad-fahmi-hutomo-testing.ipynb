{
 "cells": [
  {
   "cell_type": "markdown",
   "id": "64083a1d",
   "metadata": {},
   "source": [
    "# Menguji Endpoint Model TensorFlow Serving"
   ]
  },
  {
   "cell_type": "markdown",
   "id": "4570b088",
   "metadata": {},
   "source": [
    "Memeriksa status model yang berjalan di TensorFlow Serving, lalu mencetak hasilnya dengan format yang lebih rapi menggunakan PrettyPrinter"
   ]
  },
  {
   "cell_type": "code",
   "execution_count": 1,
   "id": "913d9b58",
   "metadata": {},
   "outputs": [
    {
     "name": "stdout",
     "output_type": "stream",
     "text": [
      "{'model_version_status': [{'state': 'AVAILABLE',\n",
      "                           'status': {'error_code': 'OK', 'error_message': ''},\n",
      "                           'version': '1749236449'}]}\n"
     ]
    }
   ],
   "source": [
    "import requests\n",
    "from pprint import PrettyPrinter\n",
    " \n",
    "pp = PrettyPrinter()\n",
    "pp.pprint(requests.get(\"http://localhost:8081/v1/models/loan_model\").json())"
   ]
  },
  {
   "cell_type": "markdown",
   "id": "60c2d1be",
   "metadata": {},
   "source": [
    "# Melakukan Prediksi menggunakan loan_model"
   ]
  },
  {
   "cell_type": "code",
   "execution_count": 3,
   "id": "54757d9f",
   "metadata": {},
   "outputs": [
    {
     "name": "stdout",
     "output_type": "stream",
     "text": [
      "Loan Status: Y\n"
     ]
    }
   ],
   "source": [
    "import requests\n",
    "\n",
    "# Data input\n",
    "payload = {\n",
    "    \"instances\": [\n",
    "        {\n",
    "            \"Gender\": [\"Male\"],\n",
    "            \"Married\": [\"No\"],\n",
    "            \"Dependents\": [0.0],\n",
    "            \"Education\": [\"Graduate\"],\n",
    "            \"Self_Employed\": [\"No\"],\n",
    "            \"ApplicantIncome\": [5849.0],\n",
    "            \"CoapplicantIncome\": [0.0],\n",
    "            \"LoanAmount\": [128.0],\n",
    "            \"Loan_Amount_Term\": [360.0],\n",
    "            \"Credit_History\": [1.0],\n",
    "            \"Property_Area\": [\"Urban\"]\n",
    "        }\n",
    "    ]\n",
    "}\n",
    "\n",
    "# Kirim request\n",
    "response = requests.post(\n",
    "    \"http://localhost:8081/v1/models/loan_model:predict\",\n",
    "    json=payload\n",
    ")\n",
    "\n",
    "# Konversi probabilitas ke Y/N\n",
    "if response.status_code == 200:\n",
    "    prediction_prob = response.json()[\"predictions\"][0][0]\n",
    "    loan_status = \"Y\" if prediction_prob > 0.5 else \"N\"\n",
    "    print(\"Loan Status:\", loan_status)  # Output: \"Y\" atau \"N\"\n",
    "else:\n",
    "    print(\"Error:\", response.text)"
   ]
  }
 ],
 "metadata": {
  "kernelspec": {
   "display_name": "mlops-tfx",
   "language": "python",
   "name": "python3"
  },
  "language_info": {
   "codemirror_mode": {
    "name": "ipython",
    "version": 3
   },
   "file_extension": ".py",
   "mimetype": "text/x-python",
   "name": "python",
   "nbconvert_exporter": "python",
   "pygments_lexer": "ipython3",
   "version": "3.9.15"
  }
 },
 "nbformat": 4,
 "nbformat_minor": 5
}
